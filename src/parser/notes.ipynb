{
 "cells": [
  {
   "cell_type": "markdown",
   "metadata": {},
   "source": [
    "# Structures\n",
    "keywords\n",
    "- if - encompasses if statements such as"
   ]
  },
  {
   "cell_type": "code",
   "execution_count": null,
   "metadata": {
    "vscode": {
     "languageId": "desmo"
    }
   },
   "outputs": [],
   "source": [
    "if x = 1 {\n",
    "    y = x\n",
    "}"
   ]
  },
  {
   "cell_type": "markdown",
   "metadata": {},
   "source": [
    "- for - list comprehension such as"
   ]
  },
  {
   "cell_type": "code",
   "execution_count": null,
   "metadata": {
    "vscode": {
     "languageId": "desmo"
    }
   },
   "outputs": [],
   "source": [
    "[ n for n =[1...23]]"
   ]
  },
  {
   "cell_type": "markdown",
   "metadata": {},
   "source": [
    "- fn - for functions"
   ]
  },
  {
   "cell_type": "code",
   "execution_count": null,
   "metadata": {
    "vscode": {
     "languageId": "desmo"
    }
   },
   "outputs": [],
   "source": [
    "fn hello(x) {\n",
    "    y = x\n",
    "}"
   ]
  },
  {
   "cell_type": "markdown",
   "metadata": {},
   "source": [
    "- ns - for namespaces/ folders"
   ]
  },
  {
   "cell_type": "code",
   "execution_count": null,
   "metadata": {
    "vscode": {
     "languageId": "desmo"
    }
   },
   "outputs": [],
   "source": [
    "ns namespace {\n",
    "    a = 1\n",
    "    b = 1\n",
    "    c = 1\n",
    "}"
   ]
  },
  {
   "cell_type": "markdown",
   "metadata": {},
   "source": [
    "literals\n",
    " - numbers\n"
   ]
  },
  {
   "cell_type": "code",
   "execution_count": null,
   "metadata": {
    "vscode": {
     "languageId": "desmo"
    }
   },
   "outputs": [],
   "source": [
    "y = 321.793129379"
   ]
  }
 ],
 "metadata": {
  "language_info": {
   "name": "python"
  }
 },
 "nbformat": 4,
 "nbformat_minor": 2
}
