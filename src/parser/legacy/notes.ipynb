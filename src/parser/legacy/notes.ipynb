{
 "cells": [
  {
   "cell_type": "markdown",
   "metadata": {},
   "source": [
    "# What is GraphLang?\n"
   ]
  },
  {
   "cell_type": "markdown",
   "metadata": {},
   "source": [
    "Note - this version (the `legacy` folder) was just a test. Due to a number of needed improvements, that were beyond the scope of this one, I am making a new interpreter under `parser/interpreter.py`."
   ]
  }
 ],
 "metadata": {
  "language_info": {
   "name": "python"
  }
 },
 "nbformat": 4,
 "nbformat_minor": 2
}
